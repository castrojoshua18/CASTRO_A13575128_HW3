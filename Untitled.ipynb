{
 "cells": [
  {
   "cell_type": "code",
   "execution_count": 1,
   "metadata": {},
   "outputs": [],
   "source": [
    "import pandas as pd\n",
    "import numpy as np"
   ]
  },
  {
   "cell_type": "code",
   "execution_count": 2,
   "metadata": {
    "scrolled": true
   },
   "outputs": [],
   "source": [
    "springfield = pd.read_json('assets/springfield.json')"
   ]
  },
  {
   "cell_type": "code",
   "execution_count": 3,
   "metadata": {},
   "outputs": [
    {
     "data": {
      "text/html": [
       "<div>\n",
       "<style scoped>\n",
       "    .dataframe tbody tr th:only-of-type {\n",
       "        vertical-align: middle;\n",
       "    }\n",
       "\n",
       "    .dataframe tbody tr th {\n",
       "        vertical-align: top;\n",
       "    }\n",
       "\n",
       "    .dataframe thead th {\n",
       "        text-align: right;\n",
       "    }\n",
       "</style>\n",
       "<table border=\"1\" class=\"dataframe\">\n",
       "  <thead>\n",
       "    <tr style=\"text-align: right;\">\n",
       "      <th></th>\n",
       "      <th>forecast</th>\n",
       "      <th>fuel_tech</th>\n",
       "      <th>history</th>\n",
       "      <th>id</th>\n",
       "      <th>region</th>\n",
       "      <th>type</th>\n",
       "      <th>units</th>\n",
       "    </tr>\n",
       "  </thead>\n",
       "  <tbody>\n",
       "    <tr>\n",
       "      <th>0</th>\n",
       "      <td>NaN</td>\n",
       "      <td>black_coal</td>\n",
       "      <td>{'start': 1571579700, 'last': 1572184500, 'int...</td>\n",
       "      <td>Springfield.fuel_tech.black_coal.power</td>\n",
       "      <td>Springfield</td>\n",
       "      <td>power</td>\n",
       "      <td>MW</td>\n",
       "    </tr>\n",
       "    <tr>\n",
       "      <th>1</th>\n",
       "      <td>NaN</td>\n",
       "      <td>distillate</td>\n",
       "      <td>{'start': 1571579700, 'last': 1572184500, 'int...</td>\n",
       "      <td>Springfield.fuel_tech.distillate.power</td>\n",
       "      <td>Springfield</td>\n",
       "      <td>power</td>\n",
       "      <td>MW</td>\n",
       "    </tr>\n",
       "    <tr>\n",
       "      <th>2</th>\n",
       "      <td>NaN</td>\n",
       "      <td>gas_ccgt</td>\n",
       "      <td>{'start': 1571579700, 'last': 1572184500, 'int...</td>\n",
       "      <td>Springfield.fuel_tech.gas_ccgt.power</td>\n",
       "      <td>Springfield</td>\n",
       "      <td>power</td>\n",
       "      <td>MW</td>\n",
       "    </tr>\n",
       "    <tr>\n",
       "      <th>3</th>\n",
       "      <td>NaN</td>\n",
       "      <td>hydro</td>\n",
       "      <td>{'start': 1571579700, 'last': 1572184500, 'int...</td>\n",
       "      <td>Springfield.fuel_tech.hydro.power</td>\n",
       "      <td>Springfield</td>\n",
       "      <td>power</td>\n",
       "      <td>MW</td>\n",
       "    </tr>\n",
       "    <tr>\n",
       "      <th>4</th>\n",
       "      <td>NaN</td>\n",
       "      <td>pumps</td>\n",
       "      <td>{'start': 1571579700, 'last': 1572184500, 'int...</td>\n",
       "      <td>Springfield.fuel_tech.pumps.power</td>\n",
       "      <td>Springfield</td>\n",
       "      <td>power</td>\n",
       "      <td>MW</td>\n",
       "    </tr>\n",
       "    <tr>\n",
       "      <th>5</th>\n",
       "      <td>NaN</td>\n",
       "      <td>wind</td>\n",
       "      <td>{'start': 1571579700, 'last': 1572184500, 'int...</td>\n",
       "      <td>Springfield.fuel_tech.wind.power</td>\n",
       "      <td>Springfield</td>\n",
       "      <td>power</td>\n",
       "      <td>MW</td>\n",
       "    </tr>\n",
       "    <tr>\n",
       "      <th>6</th>\n",
       "      <td>NaN</td>\n",
       "      <td>exports</td>\n",
       "      <td>{'start': 1571579700, 'last': 1572184500, 'int...</td>\n",
       "      <td>Springfield.fuel_tech.exports.power</td>\n",
       "      <td>Springfield</td>\n",
       "      <td>power</td>\n",
       "      <td>MW</td>\n",
       "    </tr>\n",
       "    <tr>\n",
       "      <th>7</th>\n",
       "      <td>{'start': '2019-10-21T00:00+1000', 'last': '20...</td>\n",
       "      <td>rooftop_solar</td>\n",
       "      <td>{'start': 1571578200, 'last': 1571580000, 'int...</td>\n",
       "      <td>Springfield.fuel_tech.rooftop_solar.power</td>\n",
       "      <td>Springfield</td>\n",
       "      <td>power</td>\n",
       "      <td>MW</td>\n",
       "    </tr>\n",
       "    <tr>\n",
       "      <th>8</th>\n",
       "      <td>NaN</td>\n",
       "      <td>NaN</td>\n",
       "      <td>{'start': 1571578200, 'last': 1572183000, 'int...</td>\n",
       "      <td>Springfield.price</td>\n",
       "      <td>Springfield</td>\n",
       "      <td>price</td>\n",
       "      <td>USD/MWh</td>\n",
       "    </tr>\n",
       "    <tr>\n",
       "      <th>9</th>\n",
       "      <td>NaN</td>\n",
       "      <td>NaN</td>\n",
       "      <td>{'start': 1571579700, 'last': 1572184500, 'int...</td>\n",
       "      <td>Springfield.demand</td>\n",
       "      <td>Springfield</td>\n",
       "      <td>demand</td>\n",
       "      <td>MW</td>\n",
       "    </tr>\n",
       "    <tr>\n",
       "      <th>10</th>\n",
       "      <td>NaN</td>\n",
       "      <td>NaN</td>\n",
       "      <td>{'start': 1571578200, 'last': 1572183000, 'int...</td>\n",
       "      <td>Springfield.temperature</td>\n",
       "      <td>Springfield</td>\n",
       "      <td>temperature</td>\n",
       "      <td>degreesF</td>\n",
       "    </tr>\n",
       "  </tbody>\n",
       "</table>\n",
       "</div>"
      ],
      "text/plain": [
       "                                             forecast      fuel_tech  \\\n",
       "0                                                 NaN     black_coal   \n",
       "1                                                 NaN     distillate   \n",
       "2                                                 NaN       gas_ccgt   \n",
       "3                                                 NaN          hydro   \n",
       "4                                                 NaN          pumps   \n",
       "5                                                 NaN           wind   \n",
       "6                                                 NaN        exports   \n",
       "7   {'start': '2019-10-21T00:00+1000', 'last': '20...  rooftop_solar   \n",
       "8                                                 NaN            NaN   \n",
       "9                                                 NaN            NaN   \n",
       "10                                                NaN            NaN   \n",
       "\n",
       "                                              history  \\\n",
       "0   {'start': 1571579700, 'last': 1572184500, 'int...   \n",
       "1   {'start': 1571579700, 'last': 1572184500, 'int...   \n",
       "2   {'start': 1571579700, 'last': 1572184500, 'int...   \n",
       "3   {'start': 1571579700, 'last': 1572184500, 'int...   \n",
       "4   {'start': 1571579700, 'last': 1572184500, 'int...   \n",
       "5   {'start': 1571579700, 'last': 1572184500, 'int...   \n",
       "6   {'start': 1571579700, 'last': 1572184500, 'int...   \n",
       "7   {'start': 1571578200, 'last': 1571580000, 'int...   \n",
       "8   {'start': 1571578200, 'last': 1572183000, 'int...   \n",
       "9   {'start': 1571579700, 'last': 1572184500, 'int...   \n",
       "10  {'start': 1571578200, 'last': 1572183000, 'int...   \n",
       "\n",
       "                                           id       region         type  \\\n",
       "0      Springfield.fuel_tech.black_coal.power  Springfield        power   \n",
       "1      Springfield.fuel_tech.distillate.power  Springfield        power   \n",
       "2        Springfield.fuel_tech.gas_ccgt.power  Springfield        power   \n",
       "3           Springfield.fuel_tech.hydro.power  Springfield        power   \n",
       "4           Springfield.fuel_tech.pumps.power  Springfield        power   \n",
       "5            Springfield.fuel_tech.wind.power  Springfield        power   \n",
       "6         Springfield.fuel_tech.exports.power  Springfield        power   \n",
       "7   Springfield.fuel_tech.rooftop_solar.power  Springfield        power   \n",
       "8                           Springfield.price  Springfield        price   \n",
       "9                          Springfield.demand  Springfield       demand   \n",
       "10                    Springfield.temperature  Springfield  temperature   \n",
       "\n",
       "       units  \n",
       "0         MW  \n",
       "1         MW  \n",
       "2         MW  \n",
       "3         MW  \n",
       "4         MW  \n",
       "5         MW  \n",
       "6         MW  \n",
       "7         MW  \n",
       "8    USD/MWh  \n",
       "9         MW  \n",
       "10  degreesF  "
      ]
     },
     "execution_count": 3,
     "metadata": {},
     "output_type": "execute_result"
    }
   ],
   "source": [
    "springfield"
   ]
  },
  {
   "cell_type": "code",
   "execution_count": 22,
   "metadata": {},
   "outputs": [
    {
     "data": {
      "text/plain": [
       "'0: 2016'"
      ]
     },
     "metadata": {},
     "output_type": "display_data"
    },
    {
     "data": {
      "text/plain": [
       "'1: 2016'"
      ]
     },
     "metadata": {},
     "output_type": "display_data"
    },
    {
     "data": {
      "text/plain": [
       "'2: 2016'"
      ]
     },
     "metadata": {},
     "output_type": "display_data"
    },
    {
     "data": {
      "text/plain": [
       "'3: 2016'"
      ]
     },
     "metadata": {},
     "output_type": "display_data"
    },
    {
     "data": {
      "text/plain": [
       "'4: 2016'"
      ]
     },
     "metadata": {},
     "output_type": "display_data"
    },
    {
     "data": {
      "text/plain": [
       "'5: 2016'"
      ]
     },
     "metadata": {},
     "output_type": "display_data"
    },
    {
     "data": {
      "text/plain": [
       "'6: 2016'"
      ]
     },
     "metadata": {},
     "output_type": "display_data"
    },
    {
     "data": {
      "text/plain": [
       "'7: 1'"
      ]
     },
     "metadata": {},
     "output_type": "display_data"
    },
    {
     "data": {
      "text/plain": [
       "'8: 336'"
      ]
     },
     "metadata": {},
     "output_type": "display_data"
    },
    {
     "data": {
      "text/plain": [
       "'9: 2016'"
      ]
     },
     "metadata": {},
     "output_type": "display_data"
    },
    {
     "data": {
      "text/plain": [
       "'10: 336'"
      ]
     },
     "metadata": {},
     "output_type": "display_data"
    }
   ],
   "source": [
    "for i in range(11):\n",
    "    display(str(i) +': ' + str(len(springfield.history[i]['data'])))"
   ]
  },
  {
   "cell_type": "code",
   "execution_count": null,
   "metadata": {},
   "outputs": [],
   "source": [
    "pd.read_json('assets/sample_data copy.json')"
   ]
  },
  {
   "cell_type": "code",
   "execution_count": null,
   "metadata": {},
   "outputs": [],
   "source": []
  },
  {
   "cell_type": "code",
   "execution_count": null,
   "metadata": {},
   "outputs": [],
   "source": []
  }
 ],
 "metadata": {
  "kernelspec": {
   "display_name": "Python 3",
   "language": "python",
   "name": "python3"
  },
  "language_info": {
   "codemirror_mode": {
    "name": "ipython",
    "version": 3
   },
   "file_extension": ".py",
   "mimetype": "text/x-python",
   "name": "python",
   "nbconvert_exporter": "python",
   "pygments_lexer": "ipython3",
   "version": "3.7.1"
  }
 },
 "nbformat": 4,
 "nbformat_minor": 2
}
